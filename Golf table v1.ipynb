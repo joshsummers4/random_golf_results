{
 "cells": [
  {
   "cell_type": "code",
   "execution_count": 16,
   "id": "10a50c5f",
   "metadata": {},
   "outputs": [],
   "source": [
    "import sqlite3\n",
    "import csv\n",
    "import pandas as pd"
   ]
  },
  {
   "cell_type": "code",
   "execution_count": 17,
   "id": "0795f034",
   "metadata": {},
   "outputs": [],
   "source": [
    "#create / access the database that stores the results table in \n",
    "conn = sqlite3.connect(\"golf_table.db\")\n",
    "cursor = conn.cursor()"
   ]
  },
  {
   "cell_type": "code",
   "execution_count": 18,
   "id": "60e4408f",
   "metadata": {},
   "outputs": [
    {
     "data": {
      "text/plain": [
       "<sqlite3.Cursor at 0x7ff4540476c0>"
      ]
     },
     "execution_count": 18,
     "metadata": {},
     "output_type": "execute_result"
    }
   ],
   "source": [
    "#delete the table if it exists\n",
    "cursor.execute(\"\"\"DROP TABLE IF EXISTS golf_table\"\"\")\n",
    "\n",
    "#create the table in the database \n",
    "cursor.execute(\"\"\"CREATE TABLE golf_table(\n",
    "                    id INTEGER PRIMARY KEY,\n",
    "                    name TEXT NOT NULL,\n",
    "                    total INTEGER NOT NULL,\n",
    "                    round_1 INTEGER NOT NULL,\n",
    "                    round_2 INTEGER NOT NULL,\n",
    "                    round_3 INTEGER NOT NULL,\n",
    "                    round_4 INTEGER NOT NULL);\"\"\")"
   ]
  },
  {
   "cell_type": "code",
   "execution_count": 19,
   "id": "ad5e4613",
   "metadata": {},
   "outputs": [],
   "source": [
    "#create the list of tuples for the data rows in the table\n",
    "import random\n",
    "results = []\n",
    "i = 1\n",
    "while i <= 70:\n",
    "    round_1 = random.randint(59,80)\n",
    "    round_2 = random.randint(59,80)\n",
    "    round_3 = random.randint(59,80)\n",
    "    round_4 = random.randint(59,80)\n",
    "    total = round_1 + round_2 + round_3 + round_4\n",
    "    id_num = i\n",
    "    name = \"Golfer \" + str(id_num)\n",
    "    golfer_list = (id_num, name, total, round_1, round_2, round_3, round_4)\n",
    "    results.append(golfer_list)\n",
    "    i += 1\n"
   ]
  },
  {
   "cell_type": "code",
   "execution_count": 20,
   "id": "0252f0dd",
   "metadata": {},
   "outputs": [],
   "source": [
    "#add list of results to the table\n",
    "cursor.executemany(\"\"\"INSERT INTO golf_table VALUES(?,?,?,?,?,?,?)\"\"\", results)\n",
    "conn.commit()"
   ]
  },
  {
   "cell_type": "code",
   "execution_count": 21,
   "id": "59603f26",
   "metadata": {},
   "outputs": [
    {
     "name": "stdout",
     "output_type": "stream",
     "text": [
      "    id       name  total  round_1  round_2  round_3  round_4\n",
      "0   29  Golfer 29    249       63       62       62       62\n",
      "1    2   Golfer 2    256       66       60       68       62\n",
      "2   25  Golfer 25    258       64       64       71       59\n",
      "3   36  Golfer 36    258       62       66       65       65\n",
      "4   59  Golfer 59    259       62       62       67       68\n",
      "..  ..        ...    ...      ...      ...      ...      ...\n",
      "65  40  Golfer 40    293       76       72       66       79\n",
      "66  14  Golfer 14    294       78       67       77       72\n",
      "67   7   Golfer 7    295       80       71       74       70\n",
      "68   5   Golfer 5    302       78       79       67       78\n",
      "69  67  Golfer 67    302       73       71       79       79\n",
      "\n",
      "[70 rows x 7 columns]\n"
     ]
    }
   ],
   "source": [
    "#print table\n",
    "df = pd.read_sql_query(\"\"\"SELECT * FROM golf_table ORDER BY total;\"\"\", conn)\n",
    "print(df)\n"
   ]
  },
  {
   "cell_type": "code",
   "execution_count": 22,
   "id": "3e7e87f6",
   "metadata": {},
   "outputs": [
    {
     "name": "stdout",
     "output_type": "stream",
     "text": [
      "        name  total\n",
      "0  Golfer 29    249\n",
      "1   Golfer 2    256\n",
      "2  Golfer 25    258\n",
      "3  Golfer 36    258\n",
      "4  Golfer 59    259\n",
      "5  Golfer 11    260\n",
      "6  Golfer 52    260\n",
      "7  Golfer 61    261\n",
      "8  Golfer 60    264\n",
      "9  Golfer 45    265\n"
     ]
    }
   ],
   "source": [
    "#print top 10 table \n",
    "top_10 = pd.read_sql_query(\"\"\"SELECT name, total FROM golf_table ORDER BY total LIMIT 10;\"\"\", conn)\n",
    "print(top_10)"
   ]
  }
 ],
 "metadata": {
  "kernelspec": {
   "display_name": "Python 3 (ipykernel)",
   "language": "python",
   "name": "python3"
  },
  "language_info": {
   "codemirror_mode": {
    "name": "ipython",
    "version": 3
   },
   "file_extension": ".py",
   "mimetype": "text/x-python",
   "name": "python",
   "nbconvert_exporter": "python",
   "pygments_lexer": "ipython3",
   "version": "3.9.7"
  }
 },
 "nbformat": 4,
 "nbformat_minor": 5
}
